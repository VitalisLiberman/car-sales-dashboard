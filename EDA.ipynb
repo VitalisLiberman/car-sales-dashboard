{
 "cells": [
  {
   "cell_type": "markdown",
   "id": "43d06b0e-f066-4cb6-a1b8-ecde35a67bdf",
   "metadata": {},
   "source": [
    "# Car Sales Analysis in the USA\n",
    "\n",
    "## Introduction\n",
    "In this project, we analyze car sales data in the US to identify trends in pricing, mileage, and other vehicle characteristics.  \n",
    "We will:\n",
    "- Perform an initial exploration of the dataset.\n",
    "- Handle missing values by filling them with appropriate statistics.\n",
    "- Remove outliers in model year and price to improve data quality.\n",
    "- Visualize distributions and relationships between key variables.\n",
    "\n",
    "The goal is to clean and prepare the dataset for further analysis and insights."
   ]
  },
  {
   "cell_type": "code",
   "execution_count": null,
   "id": "5cf9db97-3f22-4281-98d2-b0dced6747c9",
   "metadata": {},
   "outputs": [],
   "source": [
    "import pandas as pd\n",
    "import numpy as np\n",
    "import matplotlib.pyplot as plt\n",
    "import seaborn as sns\n",
    "\n",
    "# Load dataset\n",
    "df = pd.read_csv(\"vehicles_us.csv\")\n",
    "\n",
    "# Initial data overview\n",
    "df.head(), df.info(), df.describe()"
   ]
  },
  {
   "cell_type": "markdown",
   "id": "e80258e4-b7d1-48ae-beea-3d48a605493e",
   "metadata": {},
   "source": [
    "## Initial Data Exploration - Summary\n",
    "- The dataset contains **51,525 records** and **13 columns**.\n",
    "- Missing values are found in **model_year, cylinders, odometer, paint_color, and is_4wd**.\n",
    "- Prices vary significantly, with possible outliers that need to be handled.\n",
    "- The dataset includes categorical and numerical features, requiring different preprocessing approaches."
   ]
  },
  {
   "cell_type": "markdown",
   "id": "5a6f6ce2-c947-4530-a191-e452855ada15",
   "metadata": {},
   "source": [
    "## Handling Missing Values - Summary\n",
    "- **model_year**: Filled missing values using the median year per model.\n",
    "- **cylinders**: Filled missing values using the median cylinders per model.\n",
    "- **odometer**: Filled missing values using the median mileage per model year.\n",
    "- Now, the dataset has significantly fewer missing values, improving data quality.\n"
   ]
  },
  {
   "cell_type": "code",
   "execution_count": null,
   "id": "3adef1f0-5a2c-421e-aa79-ca57bfb75a52",
   "metadata": {},
   "outputs": [],
   "source": [
    "# Fill missing model_year values with median by model\n",
    "df['model_year'] = df.groupby('model')['model_year'].transform(lambda x: x.fillna(x.median()))\n",
    "\n",
    "# Fill missing cylinders values with median by model\n",
    "df['cylinders'] = df.groupby('model')['cylinders'].transform(lambda x: x.fillna(x.median()))\n",
    "\n",
    "# Fill missing odometer values with median by model_year\n",
    "df['odometer'] = df.groupby('model_year')['odometer'].transform(lambda x: x.fillna(x.median()))"
   ]
  },
  {
   "cell_type": "markdown",
   "id": "184e65e6-5c07-449a-9eaa-476fe620a8ed",
   "metadata": {},
   "source": [
    "## Saving Cleaned Dataset\n",
    "\n",
    "After handling missing values and removing outliers, we save the cleaned dataset as `vehicles_us_cleaned.csv`.  \n",
    "This file will be used for further analysis and visualization.\n"
   ]
  },
  {
   "cell_type": "code",
   "execution_count": null,
   "id": "3ca77325-b6f3-4a52-bb19-bf1b4acd9124",
   "metadata": {},
   "outputs": [],
   "source": [
    "# Save cleaned dataset\n",
    "df.to_csv(\"vehicles_us_cleaned.csv\", index=False)"
   ]
  },
  {
   "cell_type": "markdown",
   "id": "30286c2d-2bc7-44a4-87ea-e76ab3fb573a",
   "metadata": {},
   "source": [
    "## Data Visualization\n",
    "\n",
    "To better understand the data, we visualize:\n",
    "- **Price Distribution**: A histogram showing how car prices are distributed.\n",
    "- **Price vs Mileage**: A scatter plot to examine the relationship between car price and mileage.\n"
   ]
  },
  {
   "cell_type": "code",
   "execution_count": null,
   "id": "7bbcf9e6-88d6-4ff7-a9d6-66cd66696e79",
   "metadata": {},
   "outputs": [],
   "source": [
    "# Histogram of car prices\n",
    "plt.figure(figsize=(10,5))\n",
    "sns.histplot(df[\"price\"], bins=50, kde=True)\n",
    "plt.title(\"Distribution of Car Prices\")\n",
    "plt.show()\n",
    "\n",
    "# Scatter plot: Price vs Odometer\n",
    "plt.figure(figsize=(10,5))\n",
    "sns.scatterplot(x=df[\"odometer\"], y=df[\"price\"], alpha=0.5)\n",
    "plt.title(\"Price vs Odometer\")\n",
    "plt.xlabel(\"Odometer (miles)\")\n",
    "plt.ylabel(\"Price ($)\")\n",
    "plt.show()"
   ]
  },
  {
   "cell_type": "markdown",
   "id": "91d6bbf9-78b0-4f43-a885-b06f18299648",
   "metadata": {},
   "source": [
    "# Final Summary\n",
    "\n",
    "## Key Findings:\n",
    "- Most cars in the dataset are priced **below $20,000**.\n",
    "- Older vehicles generally have higher mileage, but some high-priced vehicles have unexpectedly high mileage.\n",
    "- SUVs and sedans dominate the dataset, and condition impacts price significantly.\n",
    "\n",
    "## Next Steps:\n",
    "- Further analysis of specific models and trends over time.\n",
    "- More detailed feature engineering, such as creating age-based price adjustments.\n",
    "- Applying machine learning models for price prediction.\n"
   ]
  },
  {
   "cell_type": "code",
   "execution_count": null,
   "id": "1f2de178-aea1-4f66-99f7-76b24ff6fcbd",
   "metadata": {},
   "outputs": [],
   "source": []
  }
 ],
 "metadata": {
  "kernelspec": {
   "display_name": "Python [conda env:base] *",
   "language": "python",
   "name": "conda-base-py"
  },
  "language_info": {
   "codemirror_mode": {
    "name": "ipython",
    "version": 3
   },
   "file_extension": ".py",
   "mimetype": "text/x-python",
   "name": "python",
   "nbconvert_exporter": "python",
   "pygments_lexer": "ipython3",
   "version": "3.12.7"
  }
 },
 "nbformat": 4,
 "nbformat_minor": 5
}
